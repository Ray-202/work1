import pandas as pd
import numpy as np
import matplotlib.pyplot as plt
import seaborn as sns
from scipy import stats

# Set style for better-looking plots
sns.set_style("whitegrid")
plt.rcParams['figure.figsize'] = (12, 6)

# ============================================================================
# 1. LOAD AND INITIAL EXPLORATION
# ============================================================================

print("="*80)
print("RADAR CLASSIFICATION - EXPLORATORY DATA ANALYSIS")
print("="*80)

# Load the data
df = pd.read_csv('detections_log.csv')

print("\n1. DATASET OVERVIEW")
print("-" * 80)
print(f"Dataset shape: {df.shape[0]} rows × {df.shape[1]} columns")
print(f"\nFirst few rows:")
print(df.head(10))

print(f"\nColumn names and types:")
print(df.dtypes)

print(f"\nDataset info:")
df.info()

# ============================================================================
# 2. DATA QUALITY ASSESSMENT
# ============================================================================

print("\n\n2. DATA QUALITY ASSESSMENT")
print("-" * 80)

# Check for missing values
missing_values = df.isnull().sum()
missing_percentage = (df.isnull().sum() / len(df)) * 100

missing_df = pd.DataFrame({
    'Missing Count': missing_values,
    'Percentage': missing_percentage
})
print("\nMissing values:")
print(missing_df[missing_df['Missing Count'] > 0])

if missing_df['Missing Count'].sum() == 0:
    print("✓ No missing values found!")

# Check for duplicates
duplicates = df.duplicated().sum()
print(f"\nDuplicate rows: {duplicates}")

# ============================================================================
# 3. STATISTICAL SUMMARY
# ============================================================================

print("\n\n3. STATISTICAL SUMMARY")
print("-" * 80)
print(df.describe())

# ============================================================================
# 4. TARGET VARIABLE ANALYSIS
# ============================================================================

print("\n\n4. TARGET VARIABLE (truthID) ANALYSIS")
print("-" * 80)

# Unique tracks
unique_tracks = df['truthID'].unique()
print(f"\nUnique track IDs: {sorted(unique_tracks)}")
print(f"Number of unique tracks: {len(unique_tracks)}")

# Distribution of detections per track
track_counts = df['truthID'].value_counts().sort_index()
print("\nDetections per track:")
print(track_counts)

# Visualize track distribution
fig, axes = plt.subplots(1, 2, figsize=(14, 5))

# Bar plot
track_counts.plot(kind='bar', ax=axes[0], color='steelblue', edgecolor='black')
axes[0].set_title('Number of Detections per Track', fontsize=14, fontweight='bold')
axes[0].set_xlabel('Track ID (truthID)', fontsize=12)
axes[0].set_ylabel('Number of Detections', fontsize=12)
axes[0].grid(axis='y', alpha=0.3)

# Pie chart
axes[1].pie(track_counts, labels=track_counts.index, autopct='%1.1f%%', 
            startangle=90, colors=sns.color_palette("Set3", len(track_counts)))
axes[1].set_title('Proportion of Detections by Track', fontsize=14, fontweight='bold')

plt.tight_layout()
plt.savefig('track_distribution.png', dpi=300, bbox_inches='tight')
plt.show()

# ============================================================================
# 5. TRAJECTORY VISUALIZATION
# ============================================================================

print("\n\n5. TRAJECTORY VISUALIZATION")
print("-" * 80)

# Convert spherical to Cartesian coordinates for 3D visualization
df['x'] = df['meas_range_m'] * np.cos(np.radians(df['meas_el_deg'])) * np.cos(np.radians(df['meas_az_deg']))
df['y'] = df['meas_range_m'] * np.cos(np.radians(df['meas_el_deg'])) * np.sin(np.radians(df['meas_az_deg']))
df['z'] = df['meas_range_m'] * np.sin(np.radians(df['meas_el_deg']))

# 2D Trajectories (Top View: X-Y plane)
fig, axes = plt.subplots(1, 2, figsize=(16, 6))

# Plot 1: X-Y Trajectory (Top View)
colors = plt.cm.tab10(np.linspace(0, 1, len(unique_tracks)))
for idx, track in enumerate(sorted(unique_tracks)):
    track_data = df[df['truthID'] == track].sort_values('time_s')
    axes[0].plot(track_data['x'], track_data['y'], 
                marker='o', markersize=3, label=f'Track {track}',
                color=colors[idx], linewidth=2, alpha=0.7)
    # Mark start and end
    axes[0].scatter(track_data['x'].iloc[0], track_data['y'].iloc[0], 
                   s=200, marker='s', color=colors[idx], edgecolor='black', linewidth=2, zorder=5)
    axes[0].scatter(track_data['x'].iloc[-1], track_data['y'].iloc[-1], 
                   s=200, marker='*', color=colors[idx], edgecolor='black', linewidth=2, zorder=5)

axes[0].set_xlabel('X Position (m)', fontsize=12)
axes[0].set_ylabel('Y Position (m)', fontsize=12)
axes[0].set_title('2D Trajectories - Top View (X-Y Plane)\n■ = Start, ★ = End', 
                 fontsize=14, fontweight='bold')
axes[0].legend(loc='best')
axes[0].grid(True, alpha=0.3)
axes[0].axis('equal')

# Plot 2: Range-Azimuth View
for idx, track in enumerate(sorted(unique_tracks)):
    track_data = df[df['truthID'] == track].sort_values('time_s')
    axes[1].plot(track_data['meas_az_deg'], track_data['meas_range_m'], 
                marker='o', markersize=3, label=f'Track {track}',
                color=colors[idx], linewidth=2, alpha=0.7)

axes[1].set_xlabel('Azimuth (degrees)', fontsize=12)
axes[1].set_ylabel('Range (m)', fontsize=12)
axes[1].set_title('Range-Azimuth Trajectories', fontsize=14, fontweight='bold')
axes[1].legend(loc='best')
axes[1].grid(True, alpha=0.3)

plt.tight_layout()
plt.savefig('trajectories_2d.png', dpi=300, bbox_inches='tight')
plt.show()

# 3D Trajectory Plot
from mpl_toolkits.mplot3d import Axes3D

fig = plt.figure(figsize=(14, 10))
ax = fig.add_subplot(111, projection='3d')

for idx, track in enumerate(sorted(unique_tracks)):
    track_data = df[df['truthID'] == track].sort_values('time_s')
    ax.plot(track_data['x'], track_data['y'], track_data['z'], 
           marker='o', markersize=4, label=f'Track {track}',
           color=colors[idx], linewidth=2.5, alpha=0.8)
    
    # Mark start point
    ax.scatter(track_data['x'].iloc[0], track_data['y'].iloc[0], track_data['z'].iloc[0],
              s=300, marker='s', color=colors[idx], edgecolor='black', linewidth=2)

ax.set_xlabel('X Position (m)', fontsize=12)
ax.set_ylabel('Y Position (m)', fontsize=12)
ax.set_zlabel('Z Position (m)', fontsize=12)
ax.set_title('3D Trajectories of All Tracks\n■ = Start Point', 
            fontsize=14, fontweight='bold')
ax.legend(loc='best')
ax.grid(True, alpha=0.3)

plt.tight_layout()
plt.savefig('trajectories_3d.png', dpi=300, bbox_inches='tight')
plt.show()

# ============================================================================
# 6. TIME-SERIES ANALYSIS FOR EACH TRACK
# ============================================================================

print("\n\n6. TIME-SERIES ANALYSIS")
print("-" * 80)

# Define measurements to plot
measurements = [
    ('meas_az_deg', 'Azimuth (degrees)', 'blue'),
    ('meas_el_deg', 'Elevation (degrees)', 'green'),
    ('meas_range_m', 'Range (m)', 'red'),
    ('meas_rr_mps', 'Range Rate (m/s)', 'purple'),
    ('snrInst_dB', 'SNR (dB)', 'orange'),
    ('rcsInst_dBsm', 'RCS (dBsm)', 'brown')
]

# Plot time series for each track
for track in sorted(unique_tracks):
    track_data = df[df['truthID'] == track].sort_values('time_s')
    
    fig, axes = plt.subplots(3, 2, figsize=(16, 12))
    fig.suptitle(f'Time-Series Analysis for Track {track}', 
                fontsize=16, fontweight='bold', y=0.995)
    
    axes = axes.flatten()
    
    for idx, (col, label, color) in enumerate(measurements):
        axes[idx].plot(track_data['time_s'], track_data[col], 
                      marker='o', markersize=4, color=color, 
                      linewidth=2, alpha=0.7)
        axes[idx].set_xlabel('Time (s)', fontsize=11)
        axes[idx].set_ylabel(label, fontsize=11)
        axes[idx].set_title(f'{label} over Time', fontsize=12, fontweight='bold')
        axes[idx].grid(True, alpha=0.3)
        
        # Add statistics
        mean_val = track_data[col].mean()
        std_val = track_data[col].std()
        axes[idx].axhline(mean_val, color='red', linestyle='--', 
                         linewidth=2, alpha=0.7, label=f'Mean: {mean_val:.2f}')
        axes[idx].fill_between(track_data['time_s'], 
                              mean_val - std_val, mean_val + std_val,
                              alpha=0.2, color=color, label=f'±1 STD: {std_val:.2f}')
        axes[idx].legend(loc='best', fontsize=9)
    
    plt.tight_layout()
    plt.savefig(f'timeseries_track_{track}.png', dpi=300, bbox_inches='tight')
    plt.show()

# ============================================================================
# 7. MEASUREMENT DISTRIBUTIONS
# ============================================================================

print("\n\n7. MEASUREMENT DISTRIBUTIONS")
print("-" * 80)

fig, axes = plt.subplots(3, 2, figsize=(16, 14))
axes = axes.flatten()

for idx, (col, label, color) in enumerate(measurements):
    # Histogram with KDE
    axes[idx].hist(df[col], bins=30, alpha=0.6, color=color, 
                  edgecolor='black', density=True, label='Histogram')
    
    # Add KDE
    from scipy.stats import gaussian_kde
    kde = gaussian_kde(df[col].dropna())
    x_range = np.linspace(df[col].min(), df[col].max(), 100)
    axes[idx].plot(x_range, kde(x_range), 'r-', linewidth=2.5, 
                  label='KDE', alpha=0.8)
    
    axes[idx].set_xlabel(label, fontsize=11)
    axes[idx].set_ylabel('Density', fontsize=11)
    axes[idx].set_title(f'Distribution of {label}', fontsize=12, fontweight='bold')
    axes[idx].legend(loc='best')
    axes[idx].grid(True, alpha=0.3)

plt.suptitle('Distribution of All Measurements', fontsize=16, fontweight='bold', y=1.00)
plt.tight_layout()
plt.savefig('measurement_distributions.png', dpi=300, bbox_inches='tight')
plt.show()

# ============================================================================
# 8. CORRELATION ANALYSIS
# ============================================================================

print("\n\n8. CORRELATION ANALYSIS")
print("-" * 80)

# Select numerical columns
numerical_cols = ['meas_az_deg', 'meas_el_deg', 'meas_range_m', 
                 'meas_rr_mps', 'snrInst_dB', 'rcsInst_dBsm']

correlation_matrix = df[numerical_cols].corr()

plt.figure(figsize=(10, 8))
sns.heatmap(correlation_matrix, annot=True, fmt='.3f', cmap='coolwarm', 
           center=0, square=True, linewidths=1, cbar_kws={"shrink": 0.8})
plt.title('Correlation Matrix of Radar Measurements', fontsize=14, fontweight='bold')
plt.tight_layout()
plt.savefig('correlation_matrix.png', dpi=300, bbox_inches='tight')
plt.show()

print("\nCorrelation Matrix:")
print(correlation_matrix)

# ============================================================================
# 9. TRACK STATISTICS SUMMARY
# ============================================================================

print("\n\n9. TRACK STATISTICS SUMMARY")
print("-" * 80)

track_stats = []

for track in sorted(unique_tracks):
    track_data = df[df['truthID'] == track]
    
    stats_dict = {
        'Track ID': track,
        'Duration (s)': track_data['time_s'].max() - track_data['time_s'].min(),
        'Num Detections': len(track_data),
        'Avg Range (m)': track_data['meas_range_m'].mean(),
        'Avg SNR (dB)': track_data['snrInst_dB'].mean(),
        'Avg RCS (dBsm)': track_data['rcsInst_dBsm'].mean(),
        'Avg Speed (m/s)': track_data['meas_rr_mps'].mean(),
        'Range Std': track_data['meas_range_m'].std(),
        'SNR Std': track_data['snrInst_dB'].std()
    }
    track_stats.append(stats_dict)

track_summary = pd.DataFrame(track_stats)
print("\nTrack Summary Statistics:")
print(track_summary.to_string(index=False))

# ============================================================================
# 10. KEY FINDINGS AND OBSERVATIONS
# ============================================================================

print("\n\n" + "="*80)
print("KEY FINDINGS AND OBSERVATIONS")
print("="*80)

print("\n✓ EDA COMPLETED!")
print(f"\nDataset contains {len(unique_tracks)} unique tracks with {len(df)} total detections.")
print("\nNext Steps:")
print("1. Review the generated plots and statistics")
print("2. Document behavior patterns observed for each track")
print("3. Proceed to feature extraction based on these insights")
print("4. Create histograms grouped by target type (sphere, cylinder, cone)")
print("\nAll plots have been saved to your working directory!")
